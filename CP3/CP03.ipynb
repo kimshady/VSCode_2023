{
 "cells": [
  {
   "attachments": {},
   "cell_type": "markdown",
   "id": "5bec01d4",
   "metadata": {},
   "source": [
    "<H3 align = \"right\">Spring 2023 ASSIGNMENT_NAME_HERE</H3>\n",
    "\n",
    "## Group Number: number_here\n",
    "\n",
    "## Names of Student in Group:\n",
    "- Name: Alexander Kim\n",
    "- Name: FirstName2 LastName2\n",
    "- Name: FirstName3 LastName3"
   ]
  },
  {
   "cell_type": "code",
   "execution_count": null,
   "id": "0515ac07",
   "metadata": {},
   "outputs": [],
   "source": [
    "##############################################\n",
    "## All Packages Needed for this Assignmnent ##\n",
    "##############################################\n",
    "\n",
    "import numpy as np"
   ]
  },
  {
   "cell_type": "markdown",
   "id": "74760cfa",
   "metadata": {},
   "source": [
    "---  \n",
    "# Question 1\n",
    "\n",
    "Contributions from Question 1:\n",
    "- FirstName1 LastName1 wrote the initial code\n",
    "- FirstName2 LastName2 checked the code for errors\n",
    "- FirstName3 LastName3 attempted the problem to double check FirstName1's work"
   ]
  },
  {
   "cell_type": "code",
   "execution_count": null,
   "id": "1187bd0a",
   "metadata": {},
   "outputs": [],
   "source": [
    "##############################\n",
    "## YOUR CODE for Question 1 ##\n",
    "##############################"
   ]
  }
 ],
 "metadata": {
  "kernelspec": {
   "display_name": "Python 3",
   "language": "python",
   "name": "python3"
  },
  "language_info": {
   "codemirror_mode": {
    "name": "ipython",
    "version": 3
   },
   "file_extension": ".py",
   "mimetype": "text/x-python",
   "name": "python",
   "nbconvert_exporter": "python",
   "pygments_lexer": "ipython3",
   "version": "3.8.8"
  }
 },
 "nbformat": 4,
 "nbformat_minor": 5
}
